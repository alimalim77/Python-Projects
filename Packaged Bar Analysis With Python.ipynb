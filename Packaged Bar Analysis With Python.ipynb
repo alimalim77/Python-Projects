{
 "cells":[
  {
   "cell_type":"markdown",
   "source":[
    "After eating chocolate bars your whole life, you’ve decided to go on a quest to find the greatest chocolate bar in the world.\n",
    "\n",
    "You’ve found a website that has over 1700 reviews of chocolate bars from all around the world. It’s displayed in the web browser on this page.\n",
    "\n",
    "The data is displayed in a table, instead of in a csv or json. Thankfully, we have the power of BeautifulSoup that will help us transform this webpage into a DataFrame that we can manipulate and analyze."
   ],
   "attachments":{
    
   },
   "metadata":{
    "datalore":{
     "type":"MD",
     "hide_input_from_viewers":false,
     "hide_output_from_viewers":false
    }
   }
  },
  {
   "cell_type":"markdown",
   "source":[
    "Some questions we thought about when we found this dataset were:\n",
    "\n",
    "**Where are the best cocao beans grown?**\n",
    "\n",
    "**Which countries produce the highest-rated bars?**\n",
    "\n",
    "**What’s the relationship between cocao solids percentage and rating?**"
   ],
   "attachments":{
    
   },
   "metadata":{
    "datalore":{
     "type":"MD",
     "hide_input_from_viewers":false,
     "hide_output_from_viewers":false
    }
   }
  },
  {
   "cell_type":"code",
   "source":[
    "\n",
    "from bs4 import BeautifulSoup\n",
    "import requests\n",
    "import pandas as pd\n",
    "import matplotlib.pyplot as plt\n",
    "import numpy as np"
   ],
   "execution_count":14,
   "outputs":[
    
   ],
   "metadata":{
    "datalore":{
     "type":"CODE",
     "hide_input_from_viewers":false,
     "hide_output_from_viewers":false
    }
   }
  },
  {
   "cell_type":"markdown",
   "source":[
    "**Let’s make a request to this site to get the raw HTML, which we can later turn into a BeautifulSoup object.**"
   ],
   "attachments":{
    
   },
   "metadata":{
    "datalore":{
     "type":"MD",
     "hide_input_from_viewers":false,
     "hide_output_from_viewers":false
    }
   }
  },
  {
   "cell_type":"code",
   "source":[
    "webpage =  requests.get(\"https:\/\/content.codecademy.com\/courses\/beautifulsoup\/cacao\/index.html\")\n",
    "soup = BeautifulSoup(webpage.content,\"html.parser\")"
   ],
   "execution_count":15,
   "outputs":[
    
   ],
   "metadata":{
    "datalore":{
     "type":"CODE",
     "hide_input_from_viewers":false,
     "hide_output_from_viewers":false
    }
   }
  },
  {
   "cell_type":"markdown",
   "source":[
    "**How many terrible chocolate bars are out there? And how many earned a perfect 5?**"
   ],
   "attachments":{
    
   },
   "metadata":{
    "datalore":{
     "type":"MD",
     "hide_input_from_viewers":false,
     "hide_output_from_viewers":false
    }
   }
  },
  {
   "cell_type":"code",
   "source":[
    "b = soup.find_all(attrs={'class':'Rating'})\n",
    "#print(b)\n",
    "\n",
    "ratings = []\n",
    "ctr = 0\n",
    "\n",
    "for i in b:\n",
    "  a = BeautifulSoup.get_text(i)\n",
    "  if ctr == 0:\n",
    "    ctr += 1\n",
    "    continue\n",
    "  ratings.append(float(a))\n"
   ],
   "execution_count":16,
   "outputs":[
    
   ],
   "metadata":{
    "datalore":{
     "type":"CODE",
     "hide_input_from_viewers":false,
     "hide_output_from_viewers":false
    }
   }
  },
  {
   "cell_type":"code",
   "source":[
    "#print(ratings)\n",
    "plt.hist(ratings)\n",
    "plt.show()\n"
   ],
   "execution_count":17,
   "outputs":[
    {
     "data":{
      "image\/png":"[encoded data removed]"
     },
     "metadata":{
      "image\/png":{
       
      }
     },
     "output_type":"display_data"
    }
   ],
   "metadata":{
    "datalore":{
     "type":"CODE",
     "hide_input_from_viewers":false,
     "hide_output_from_viewers":false
    }
   }
  },
  {
   "cell_type":"code",
   "source":[
    "\n",
    "comp = soup.select(\".Company\")\n",
    "\n",
    "complist = []\n",
    "for i in comp:\n",
    "  a = BeautifulSoup.get_text(i)\n",
    "  complist.append(a)\n",
    "complist.pop(0)\n"
   ],
   "execution_count":18,
   "outputs":[
    {
     "data":{
      "text\/plain":[
       "'Company\\xa0\\n               (Maker-if known)\\n            '"
      ]
     },
     "metadata":{
      
     },
     "output_type":"display_data"
    }
   ],
   "metadata":{
    "datalore":{
     "type":"CODE",
     "hide_input_from_viewers":false,
     "hide_output_from_viewers":true
    }
   }
  },
  {
   "cell_type":"markdown",
   "source":[
    "**We want to now find the 10 most highly rated chocolatiers.\n",
    "One way to do this is to make a DataFrame that has the chocolate companies in one column, and the ratings in another. Then, we can do a groupby to find the ones with the highest average rating.**"
   ],
   "attachments":{
    
   },
   "metadata":{
    "datalore":{
     "type":"MD",
     "hide_input_from_viewers":false,
     "hide_output_from_viewers":false
    }
   }
  },
  {
   "cell_type":"code",
   "source":[
    "d = {\"Ratings\":ratings,\"Company\":complist}\n",
    "your = pd.DataFrame.from_dict(d)\n",
    "y = your.groupby(\"Company\").Ratings.mean()\n",
    "best = y.nlargest(10)\n",
    "print(best)"
   ],
   "execution_count":19,
   "outputs":[
    {
     "name":"stdout",
     "text":[
      "Company\n",
      "Tobago Estate (Pralus)                  4.000000\n",
      "Heirloom Cacao Preservation (Zokoko)    3.875000\n",
      "Ocelot                                  3.875000\n",
      "Amedei                                  3.846154\n",
      "Matale                                  3.812500\n",
      "Patric                                  3.791667\n",
      "Idilio (Felchlin)                       3.775000\n",
      "Acalli                                  3.750000\n",
      "Chocola'te                              3.750000\n",
      "Christopher Morel (Felchlin)            3.750000\n",
      "Name: Ratings, dtype: float64\n"
     ],
     "output_type":"stream"
    }
   ],
   "metadata":{
    "datalore":{
     "type":"CODE",
     "hide_input_from_viewers":false,
     "hide_output_from_viewers":false
    }
   }
  },
  {
   "cell_type":"markdown",
   "source":[
    "**Checking the highest Cocoa Percentage in Chocolate Bars with respect to the ratings by creating the Best-Fit over the scatterplot with basic Numpy commands**"
   ],
   "attachments":{
    
   },
   "metadata":{
    "datalore":{
     "type":"MD",
     "hide_input_from_viewers":false,
     "hide_output_from_viewers":false
    }
   }
  },
  {
   "cell_type":"code",
   "source":[
    "cocoa = soup.select(\".CocoaPercent\")\n",
    "cocalist = []\n",
    "for i in cocoa:\n",
    "  a = BeautifulSoup.get_text(i)\n",
    "  cocalist.append(a)\n",
    "cocalist.pop(0)\n",
    "coca = list(map(lambda x: x[:-1],cocalist))\n",
    "coca = list(map(float,coca))\n",
    "\n",
    "d[\"CocoaPercentage\"] = coca\n",
    "yours = pd.DataFrame.from_dict(d)\n",
    "print(yours)"
   ],
   "execution_count":20,
   "outputs":[
    {
     "name":"stdout",
     "text":[
      "      Ratings   Company  CocoaPercentage\n",
      "0        3.75  A. Morin             63.0\n",
      "1        2.75  A. Morin             70.0\n",
      "2        3.00  A. Morin             70.0\n",
      "3        3.50  A. Morin             70.0\n",
      "4        3.50  A. Morin             70.0\n",
      "...       ...       ...              ...\n",
      "1790     3.75    Zotter             70.0\n",
      "1791     3.00    Zotter             65.0\n",
      "1792     3.50    Zotter             65.0\n",
      "1793     3.25    Zotter             62.0\n",
      "1794     3.00    Zotter             65.0\n",
      "\n",
      "[1795 rows x 3 columns]\n"
     ],
     "output_type":"stream"
    }
   ],
   "metadata":{
    "datalore":{
     "type":"CODE",
     "hide_input_from_viewers":false,
     "hide_output_from_viewers":false
    }
   }
  },
  {
   "cell_type":"code",
   "source":[
    "d[\"CocoaPercentage\"] = coca\n",
    "yours = pd.DataFrame.from_dict(d)\n",
    "print(yours)"
   ],
   "execution_count":21,
   "outputs":[
    {
     "name":"stdout",
     "text":[
      "      Ratings   Company  CocoaPercentage\n",
      "0        3.75  A. Morin             63.0\n",
      "1        2.75  A. Morin             70.0\n",
      "2        3.00  A. Morin             70.0\n",
      "3        3.50  A. Morin             70.0\n",
      "4        3.50  A. Morin             70.0\n",
      "...       ...       ...              ...\n",
      "1790     3.75    Zotter             70.0\n",
      "1791     3.00    Zotter             65.0\n",
      "1792     3.50    Zotter             65.0\n",
      "1793     3.25    Zotter             62.0\n",
      "1794     3.00    Zotter             65.0\n",
      "\n",
      "[1795 rows x 3 columns]\n"
     ],
     "output_type":"stream"
    }
   ],
   "metadata":{
    "datalore":{
     "type":"CODE",
     "hide_input_from_viewers":false,
     "hide_output_from_viewers":false
    }
   }
  },
  {
   "cell_type":"code",
   "source":[
    "plt.clf()\n",
    "plt.scatter( yours.CocoaPercentage,yours.Ratings)\n",
    "z = np.polyfit(yours.CocoaPercentage, yours.Ratings, 1)\n",
    "line_function = np.poly1d(z)\n",
    "plt.plot(yours.CocoaPercentage, line_function(yours.CocoaPercentage), \"r--\")\n",
    "plt.show()"
   ],
   "execution_count":22,
   "outputs":[
    {
     "data":{
      "image\/png":"[encoded data removed]"
     },
     "metadata":{
      "image\/png":{
       
      }
     },
     "output_type":"display_data"
    }
   ],
   "metadata":{
    "datalore":{
     "type":"CODE",
     "hide_input_from_viewers":false,
     "hide_output_from_viewers":false
    }
   }
  },
  {
   "cell_type":"code",
   "source":[
    "a = soup.select(\".Origin\")\n",
    "b = soup.select(\".CocoaPercent\")\n",
    "threebroadbean = []\n",
    "for i in a:\n",
    "  text = BeautifulSoup.get_text(i)\n",
    "  threebroadbean.append(text)\n",
    "  \n",
    "threebroadbean.pop(0)"
   ],
   "execution_count":23,
   "outputs":[
    {
     "data":{
      "text\/plain":[
       "'Specific Bean Origin\\n               or Bar Name\\n            '"
      ]
     },
     "metadata":{
      
     },
     "output_type":"display_data"
    }
   ],
   "metadata":{
    "datalore":{
     "type":"CODE",
     "hide_input_from_viewers":false,
     "hide_output_from_viewers":true
    }
   }
  },
  {
   "cell_type":"markdown",
   "source":[
    "**Now let's hop on to find which regions cultivate the best beans of them all. We will operate by taking the already computed Origin and Percent values in a dictionary and then Grouping them by percent.**"
   ],
   "attachments":{
    
   },
   "metadata":{
    "datalore":{
     "type":"MD",
     "hide_input_from_viewers":false,
     "hide_output_from_viewers":false
    }
   }
  },
  {
   "cell_type":"code",
   "source":[
    "newd = dict()\n",
    "newd[\"Origin\"] = threebroadbean\n",
    "newd[\"Percent\"] = coca\n",
    "ogperc = pd.DataFrame.from_dict(newd)\n",
    "ogperc = ogperc.groupby(\"Percent\").sum()\n",
    "res = ogperc[::-1]\n",
    "print(res[\"Origin\"])"
   ],
   "execution_count":24,
   "outputs":[
    {
     "name":"stdout",
     "text":[
      "Percent\n",
      "100.0    VenezuelaOne HundredEl Oro, Hacienda de OroEcu...\n",
      "99.0                              Noir InfiniPeru- Ecuador\n",
      "91.0     PichinchaNocturneVenezuela; Barinos, Merida, T...\n",
      "90.0     EcuadorTumbes, \"Zarumilla\"Los Rios, H. IaraBel...\n",
      "89.0                            Dominican RepublicAmazonas\n",
      "88.0     Vanua LevuMaracaiboEsmeraldasAfricaPNG, Voodoo...\n",
      "87.0                                             Alto Beni\n",
      "86.0                                                Belize\n",
      "85.0     EcuadorGhanaMonte Alegre, 3 diff. plantationsC...\n",
      "84.0     Sur del LagoDominican RepublicEcuador, Midnigh...\n",
      "83.0     Belize south, low fermentationBelize southVanu...\n",
      "82.0     Congo, Grand CruAkesson's E., Sambirano V.Boli...\n",
      "81.0     Carenero SuperiorPalo Blanco w\/ panela, Chuluc...\n",
      "80.0     Vanua Levu, Toto-ABoliviaMadagascarHouseblends...\n",
      "79.0                                              Patanemo\n",
      "78.0     Belize southSan Andres, silkOcumare, prototype...\n",
      "77.0     DavaoEl Oro, Hacienda de OroChuaoVenezuelaEsme...\n",
      "76.0     Nicaragua, American styleSan Andres, American ...\n",
      "75.0     Bali (west), Sukrama Family, Melaya areaMadaga...\n",
      "74.0     BaracoaChuaoCuyagua VillagePorcelana, Premier ...\n",
      "73.5                           Terreiro Velho P.Madagascar\n",
      "73.0     Bellavista Gran Pajeten, San MartinTien GiangL...\n",
      "72.5                     UgandaHispaniolaEcuadorMadagascar\n",
      "72.0     Vanua Levu, Ami-Ami-CALamasdelChanka, San Mart...\n",
      "71.0     EcuadorSambiranoMacondoMadagascarEcuadorPapuaG...\n",
      "70.0     KpimeAtsaneAkataQuillaCareneroCubaSur del Lago...\n",
      "69.0     Boyaca, Aprocampa Coop, PaunaMaranonMarkham Va...\n",
      "68.0     PeruNacionalMababaPuerto PlataConacadoGran Cou...\n",
      "67.0     Namau Village, N. Taileva P., batch a2812Kokoa...\n",
      "66.0     MadagascarToscano BlackMexicoDominican Republi...\n",
      "65.0     TriniteDominican Republic, Batch 3EcuadorBali,...\n",
      "64.0     BelizeCosta RicaPapua New GuineaPeruMadagascar...\n",
      "63.0     Agua GrandeChanchamayo ProvincePeruPapua New G...\n",
      "62.0     Porcelana, ApotequilRed VanillaVenezuela, Trin...\n",
      "61.0     ChoroniCarenero Superior, MijaoPalo Blanco, Ch...\n",
      "60.5                                   Rio Caribe, Cariaco\n",
      "60.0     Vanua LevuMomotomboAcopagroCIAAB CoopVilla And...\n",
      "58.0     West AfricaCarenero Superior, BucareGrenadaArr...\n",
      "57.0                                                Uganda\n",
      "56.0                              Acarigua, w\/ nibsCaraque\n",
      "55.0     Los Rios, Quevedo, ArribaNatureManabiLos RiosE...\n",
      "53.0                                   Colombian Semi Dark\n",
      "50.0                     Monte Alegre, 3 diff. plantations\n",
      "46.0                                                 Selva\n",
      "42.0                                            Guadeloupe\n",
      "Name: Origin, dtype: object\n"
     ],
     "output_type":"stream"
    }
   ],
   "metadata":{
    "datalore":{
     "type":"CODE",
     "hide_input_from_viewers":false,
     "hide_output_from_viewers":false
    }
   }
  },
  {
   "cell_type":"markdown",
   "source":[
    "**In this module, we will scale the companies with highest amount of chocolate bar production with the us of Python libraries like Numpy and Matplotlib.**"
   ],
   "attachments":{
    
   },
   "metadata":{
    "datalore":{
     "type":"MD",
     "hide_input_from_viewers":false,
     "hide_output_from_viewers":false
    }
   }
  },
  {
   "cell_type":"code",
   "source":[
    "#print(coca) #Coca Percent\n",
    "print(complist)\n",
    "nd = {\"Companies\":complist}"
   ],
   "execution_count":30,
   "outputs":[
    {
     "name":"stdout",
     "text":[
      "['A. Morin', 'A. Morin', 'A. Morin', 'A. Morin', 'A. Morin', 'A. Morin', 'A. Morin', 'A. Morin', 'A. Morin', 'A. Morin', 'A. Morin', 'A. Morin', 'A. Morin', 'A. Morin', 'A. Morin', 'A. Morin', 'A. Morin', 'A. Morin', 'A. Morin', 'A. Morin', 'A. Morin', 'A. Morin', 'A. Morin', 'Acalli', 'Acalli', 'Adi', 'Adi', 'Adi', 'Adi', 'Aequare (Gianduja)', 'Aequare (Gianduja)', 'Ah Cacao', \"Akesson's (Pralus)\", \"Akesson's (Pralus)\", \"Akesson's (Pralus)\", 'Alain Ducasse', 'Alain Ducasse', 'Alain Ducasse', 'Alain Ducasse', 'Alain Ducasse', 'Alexandre', 'Alexandre', 'Alexandre', 'Alexandre', 'Altus aka Cao Artisan', 'Altus aka Cao Artisan', 'Altus aka Cao Artisan', 'Altus aka Cao Artisan', 'Altus aka Cao Artisan', 'Altus aka Cao Artisan', 'Altus aka Cao Artisan', 'Altus aka Cao Artisan', 'Altus aka Cao Artisan', 'Altus aka Cao Artisan', 'Amano', 'Amano', 'Amano', 'Amano', 'Amano', 'Amano', 'Amano', 'Amano', 'Amano', 'Amatller (Simon Coll)', 'Amatller (Simon Coll)', 'Amatller (Simon Coll)', 'Amatller (Simon Coll)', 'Amazona', 'Amazona', 'Ambrosia', 'Ambrosia', 'Ambrosia', 'Ambrosia', 'Ambrosia', 'Ambrosia', 'Amedei', 'Amedei', 'Amedei', 'Amedei', 'Amedei', 'Amedei', 'Amedei', 'Amedei', 'Amedei', 'Amedei', 'Amedei', 'Amedei', 'Amedei', 'AMMA', 'AMMA', 'AMMA', 'AMMA', 'AMMA', 'Anahata', 'Animas', 'Ara', 'Ara', 'Ara', 'Ara', 'Arete', 'Arete', 'Arete', 'Arete', 'Arete', 'Arete', 'Arete', 'Arete', 'Arete', 'Arete', 'Arete', 'Arete', 'Arete', 'Arete', 'Arete', 'Arete', 'Arete', 'Arete', 'Arete', 'Arete', 'Arete', 'Arete', 'Artisan du Chocolat', 'Artisan du Chocolat', 'Artisan du Chocolat', 'Artisan du Chocolat', 'Artisan du Chocolat', 'Artisan du Chocolat', 'Artisan du Chocolat', 'Artisan du Chocolat', 'Artisan du Chocolat', 'Artisan du Chocolat', 'Artisan du Chocolat', 'Artisan du Chocolat', 'Artisan du Chocolat', 'Artisan du Chocolat', 'Artisan du Chocolat', 'Artisan du Chocolat', 'Artisan du Chocolat (Casa Luker)', 'Askinosie', 'Askinosie', 'Askinosie', 'Askinosie', 'Askinosie', 'Askinosie', 'Bahen & Co.', 'Bahen & Co.', 'Bahen & Co.', 'Bahen & Co.', 'Bahen & Co.', 'Bakau', 'Bakau', 'Bar Au Chocolat', 'Bar Au Chocolat', 'Bar Au Chocolat', 'Bar Au Chocolat', 'Bar Au Chocolat', \"Baravelli's\", 'Batch', 'Batch', 'Batch', 'Beau Cacao', 'Beau Cacao', 'Beehive', 'Beehive', 'Beehive', 'Beehive', 'Belcolade', 'Belcolade', 'Belcolade', 'Belcolade', 'Bellflower', 'Bellflower', 'Bellflower', 'Belyzium', 'Belyzium', 'Belyzium', 'Benoit Nihant', 'Benoit Nihant', 'Benoit Nihant', 'Benoit Nihant', 'Benoit Nihant', 'Benoit Nihant', 'Bernachon', 'Beschle (Felchlin)', 'Beschle (Felchlin)', 'Beschle (Felchlin)', 'Beschle (Felchlin)', 'Beschle (Felchlin)', 'Beschle (Felchlin)', 'Beschle (Felchlin)', 'Beschle (Felchlin)', 'Bisou', 'Bisou', 'Bisou', 'Bisou', 'Bittersweet Origins', 'Bittersweet Origins', 'Bittersweet Origins', 'Bittersweet Origins', 'Bittersweet Origins', 'Bittersweet Origins', 'Bittersweet Origins', 'Bittersweet Origins', 'Bittersweet Origins', 'Bittersweet Origins', 'Bittersweet Origins', 'Bittersweet Origins', 'Bittersweet Origins', 'Bittersweet Origins', 'Black Mountain', 'Black Mountain', 'Black Mountain', 'Black River (A. Morin)', 'Blanxart', 'Blanxart', 'Blue Bandana', 'Blue Bandana', 'Blue Bandana', 'Blue Bandana', 'Blue Bandana', 'Blue Bandana', 'Bonnat', 'Bonnat', 'Bonnat', 'Bonnat', 'Bonnat', 'Bonnat', 'Bonnat', 'Bonnat', 'Bonnat', 'Bonnat', 'Bonnat', 'Bonnat', 'Bonnat', 'Bonnat', 'Bonnat', 'Bonnat', 'Bonnat', 'Bonnat', 'Bonnat', 'Bonnat', 'Bonnat', 'Bonnat', 'Bonnat', 'Bonnat', 'Bonnat', 'Bonnat', 'Bonnat', 'Bouga Cacao (Tulicorp)', 'Bouga Cacao (Tulicorp)', 'Bowler Man', 'Bowler Man', \"Brasstown aka It's Chocolate\", \"Brasstown aka It's Chocolate\", \"Brasstown aka It's Chocolate\", \"Brasstown aka It's Chocolate\", \"Brasstown aka It's Chocolate\", \"Brasstown aka It's Chocolate\", \"Brasstown aka It's Chocolate\", \"Brasstown aka It's Chocolate\", \"Brasstown aka It's Chocolate\", 'Brazen', 'Brazen', 'Brazen', 'Brazen', 'Brazen', 'Brazen', 'Breeze Mill', 'Bright', 'Bright', 'Bright', 'Bright', 'Britarev', 'Bronx Grrl Chocolate', 'Burnt Fork Bend', 'Burnt Fork Bend', 'Burnt Fork Bend', 'Burnt Fork Bend', 'Burnt Fork Bend', 'Cacao Arabuco', 'Cacao Atlanta', 'Cacao Atlanta', 'Cacao Atlanta', 'Cacao Atlanta', 'Cacao Barry', 'Cacao Barry', 'Cacao Barry', 'Cacao Barry', 'Cacao Barry', 'Cacao de Origen', 'Cacao de Origen', 'Cacao de Origen', 'Cacao de Origen', 'Cacao de Origen', 'Cacao de Origen', 'Cacao de Origin', 'Cacao Hunters', 'Cacao Hunters', 'Cacao Hunters', 'Cacao Hunters', 'Cacao Hunters', 'Cacao Hunters', 'Cacao Hunters', 'Cacao Market', 'Cacao Prieto', 'Cacao Prieto', 'Cacao Prieto', 'Cacao Prieto', 'Cacao Sampaka', 'Cacao Sampaka', 'Cacao Sampaka', 'Cacao Sampaka', 'Cacao Sampaka', 'Cacao Sampaka', 'Cacao Sampaka', 'Cacao Sampaka', 'Cacao Sampaka', 'Cacao Store', 'Cacao Store', 'Cacao Store', 'Cacaosuyo (Theobroma Inversiones)', 'Cacaoyere (Ecuatoriana)', 'Cacaoyere (Ecuatoriana)', 'Cacaoyere (Ecuatoriana)', 'Cacaoyere (Ecuatoriana)', 'Callebaut', 'Callebaut', 'C-Amaro', 'C-Amaro', 'C-Amaro', 'C-Amaro', 'C-Amaro', 'C-Amaro', 'C-Amaro', 'Cao', 'Cao', 'Cao', 'Cao', 'Cao', 'Caoni (Tulicorp)', 'Caoni (Tulicorp)', 'Caoni (Tulicorp)', 'Caoni (Tulicorp)', 'Caoni (Tulicorp)', 'Caoni (Tulicorp)', 'Captain Pembleton', 'Captain Pembleton', 'Caribeans', 'Caribeans', 'Caribeans', 'Caribeans', 'Caribeans', 'Carlotta Chocolat', 'Carlotta Chocolat', 'Carlotta Chocolat', 'Carlotta Chocolat', 'Carlotta Chocolat', 'Castronovo', 'Castronovo', 'Castronovo', 'Castronovo', 'Castronovo', 'Castronovo', 'Castronovo', 'Castronovo', 'Castronovo', 'Castronovo', 'Castronovo', 'Castronovo', 'Castronovo', 'Castronovo', 'Cello', 'Cello', 'Cello', 'Cello', 'Cemoi', 'Chaleur B', 'Charm School', 'Chchukululu (Tulicorp)', 'Chchukululu (Tulicorp)', 'Chequessett', 'Chloe Chocolat', 'Chocablog', 'Choco Del Sol', 'Choco Del Sol', 'Choco Dong', 'Choco Dong', 'Chocolarder', 'Chocolarder', 'Chocolarder', \"Chocola'te\", \"Chocola'te\", 'Chocolate Alchemist-Philly', 'Chocolate Alchemist-Philly', 'Chocolate Con Amor', 'Chocolate Con Amor', 'Chocolate Con Amor', 'Chocolate Con Amor', 'Chocolate Con Amor', 'Chocolate Con Amor', 'Chocolate Con Amor', 'Chocolate Conspiracy', 'Chocolate Makers', 'Chocolate Makers', 'Chocolate Makers', 'Chocolate Tree, The', 'Chocolate Tree, The', 'Chocolate Tree, The', 'Chocolate Tree, The', 'Chocolate Tree, The', 'Chocolate Tree, The', 'Chocolats Privilege', 'ChocoReko', 'Chocosol', 'Chocovic', 'Chocovic', 'Chocovic', 'Chocovic', 'Chocovic', 'Chocovic', 'Chocovic', 'Chocovic', 'Chocovivo', 'Chocovivo', 'Choklat', 'Choklat', 'Choklat', 'Choklat', 'Choklat', 'Chokolat Elot (Girard)', 'Choocsol', 'Christopher Morel (Felchlin)', 'Chuao Chocolatier', 'Chuao Chocolatier (Pralus)', 'Claudio Corallo', 'Claudio Corallo', 'Claudio Corallo', 'Claudio Corallo', 'Cloudforest', 'Coleman & Davis', 'Compania de Chocolate (Salgado)', 'Compania de Chocolate (Salgado)', 'Compania de Chocolate (Salgado)', 'Compania de Chocolate (Salgado)', 'Compania de Chocolate (Salgado)', 'Condor', 'Confluence', 'Coppeneur', 'Coppeneur', 'Coppeneur', 'Coppeneur', 'Coppeneur', 'Coppeneur', 'Coppeneur', 'Coppeneur', 'Coppeneur', 'Coppeneur', 'Coppeneur', 'Coppeneur', 'Coppeneur', 'Coppeneur', 'Coppeneur', 'Coppeneur', 'Coppeneur', 'Coppeneur', \"Cote d' Or (Kraft)\", 'Cravve', 'Cravve', 'Cravve', 'Cravve', 'Cravve', 'Cravve', 'Cravve', 'Creo', 'Creo', 'Daintree', 'Daintree', 'Dalloway', 'Damson', 'Damson', 'Damson', 'Damson', 'Dandelion', 'Dandelion', 'Dandelion', 'Dandelion', 'Dandelion', 'Dandelion', 'Dandelion', 'Dandelion', 'Dandelion', 'Dandelion', 'Dandelion', 'Dandelion', 'Dandelion', 'Dandelion', 'Dandelion', 'Dandelion', 'Danta', 'Danta', 'Danta', 'Danta', 'Danta', 'Danta', 'Danta', 'Danta', 'Danta', 'DAR', 'DAR', 'DAR', 'Dark Forest', 'Dark Forest', 'Dark Forest', 'Dark Forest', 'Dark Forest', 'Davis', 'Davis', 'Davis', 'Davis', 'De Mendes', 'De Mendes', 'De Villiers', 'De Villiers', 'Dean and Deluca (Belcolade)', 'Dean and Deluca (Belcolade)', 'Dean and Deluca (Belcolade)', 'Dean and Deluca (Belcolade)', 'Dean and Deluca (Belcolade)', 'Dean and Deluca (Belcolade)', 'Debauve & Gallais (Michel Cluizel)', 'Debauve & Gallais (Michel Cluizel)', 'Desbarres', 'DeVries', 'DeVries', 'DeVries', 'Dick Taylor', 'Dick Taylor', 'Dick Taylor', 'Dick Taylor', 'Dick Taylor', 'Dick Taylor', 'Dick Taylor', 'Dick Taylor', 'Dick Taylor', 'Dick Taylor', 'Dick Taylor', 'Dick Taylor', 'Dick Taylor', 'Doble & Bignall', 'Doble & Bignall', 'Doble & Bignall', 'Doble & Bignall', 'Dole (Guittard)', 'Dolfin (Belcolade)', 'Dolfin (Belcolade)', 'Domori', 'Domori', 'Domori', 'Domori', 'Domori', 'Domori', 'Domori', 'Domori', 'Domori', 'Domori', 'Domori', 'Domori', 'Domori', 'Domori', 'Domori', 'Domori', 'Domori', 'Domori', 'Domori', 'Domori', 'Domori', 'Domori', 'Dormouse', 'Dormouse', 'Dormouse', 'Dormouse', \"Duffy's\", \"Duffy's\", \"Duffy's\", \"Duffy's\", \"Duffy's\", \"Duffy's\", \"Duffy's\", \"Duffy's\", \"Duffy's\", \"Duffy's\", \"Duffy's\", \"Duffy's\", \"Duffy's\", 'Dulcinea', 'Durand', 'Durci', 'Durci', 'Durci', 'Durci', 'Durci', 'East Van Roasters', 'East Van Roasters', 'East Van Roasters', 'Eau de Rose', 'Eau de Rose', 'Eclat (Felchlin)', 'Edelmond', 'El Ceibo', 'El Ceibo', 'El Rey', 'El Rey', 'El Rey', 'El Rey', 'El Rey', 'El Rey', 'El Rey', 'Emerald Estate', 'Emerald Estate', \"Emily's\", \"Emily's\", 'ENNA', 'Enric Rovira (Claudio Corallo)', 'Erithaj (A. Morin)', 'Erithaj (A. Morin)', 'Erithaj (A. Morin)', 'Escazu', 'Escazu', 'Escazu', 'Escazu', 'Escazu', \"Ethel's Artisan (Mars)\", \"Ethel's Artisan (Mars)\", \"Ethel's Artisan (Mars)\", \"Ethel's Artisan (Mars)\", \"Ethel's Artisan (Mars)\", 'Ethereal', 'Ethereal', 'Ethereal', 'Fearless (AMMA)', 'Feitoria Cacao', 'Feitoria Cacao', 'Feitoria Cacao', 'Felchlin', 'Felchlin', 'Felchlin', 'Felchlin', 'Felchlin', 'Felchlin', 'Felchlin', 'Finca', 'Finca', 'Finca', 'Finca', 'Forever Cacao', 'Forteza (Cortes)', 'Forteza (Cortes)', 'Fossa', 'Fossa', 'Fossa', 'Franceschi', 'Franceschi', 'Franceschi', 'Franceschi', 'Frederic Blondeel', 'Frederic Blondeel', 'Frederic Blondeel', 'Frederic Blondeel', 'Frederic Blondeel', 'French Broad', 'French Broad', 'French Broad', 'French Broad', 'French Broad', 'French Broad', 'French Broad', 'French Broad', 'French Broad', 'French Broad', 'Fresco', 'Fresco', 'Fresco', 'Fresco', 'Fresco', 'Fresco', 'Fresco', 'Fresco', 'Fresco', 'Fresco', 'Fresco', 'Fresco', 'Fresco', 'Fresco', 'Fresco', 'Fresco', 'Fresco', 'Fresco', 'Fresco', 'Fresco', 'Fresco', 'Fresco', 'Fresco', 'Fresco', 'Fresco', 'Fresco', 'Friis Holm', 'Friis Holm (Bonnat)', 'Friis Holm (Bonnat)', 'Friis Holm (Bonnat)', 'Friis Holm (Bonnat)', 'Friis Holm (Bonnat)', 'Friis Holm (Bonnat)', 'Friis Holm (Bonnat)', 'Friis Holm (Bonnat)', 'Friis Holm (Bonnat)', 'Friis Holm (Bonnat)', 'Friis Holm (Bonnat)', 'Friis Holm (Bonnat)', 'Fruition', 'Fruition', 'Fruition', 'Fruition', 'Fruition', 'Fruition', 'Fruition', 'Fruition', 'Fruition', 'Garden Island', 'Georgia Ramon', 'Georgia Ramon', 'Georgia Ramon', 'Georgia Ramon', 'Georgia Ramon', 'Glennmade', 'Glennmade', 'Goodnow Farms', 'Goodnow Farms', 'Goodnow Farms', 'Grand Place', \"Green & Black's (ICAM)\", 'Green Bean to Bar', 'Grenada Chocolate Co.', 'Grenada Chocolate Co.', 'Grenada Chocolate Co.', 'Guido Castagna', 'Guido Castagna', 'Guido Castagna', 'Guido Castagna', 'Guido Castagna', 'Guittard', 'Guittard', 'Guittard', 'Guittard', 'Guittard', 'Guittard', 'Guittard', 'Guittard', 'Guittard', 'Guittard', 'Guittard', 'Guittard', 'Guittard', 'Guittard', 'Guittard', 'Guittard', 'Guittard', 'Guittard', 'Guittard', 'Guittard', 'Guittard', 'Guittard', 'Habitual', 'Habitual', 'Habitual', 'Habitual', 'Habitual', 'Habitual', 'Habitual', 'Habitual', 'Habitual', 'Hachez', 'Hacienda El Castillo', 'Hacienda El Castillo', 'Haigh', 'Harper Macaw', 'Harper Macaw', 'Harper Macaw', 'Harper Macaw', 'Heilemann', 'Heirloom Cacao Preservation (Brasstown)', 'Heirloom Cacao Preservation (Fruition)', 'Heirloom Cacao Preservation (Guittard)', 'Heirloom Cacao Preservation (Guittard)', 'Heirloom Cacao Preservation (Guittard)', 'Heirloom Cacao Preservation (Guittard)', 'Heirloom Cacao Preservation (Manoa)', 'Heirloom Cacao Preservation (Millcreek)', 'Heirloom Cacao Preservation (Mindo)', 'Heirloom Cacao Preservation (Zokoko)', 'Heirloom Cacao Preservation (Zokoko)', 'hello cocoa', 'hello cocoa', 'hexx', 'hexx', 'hexx', 'hexx', 'hexx', 'Hogarth', 'Hogarth', 'Hogarth', 'Hogarth', 'Hoja Verde (Tulicorp)', 'Hoja Verde (Tulicorp)', 'Hoja Verde (Tulicorp)', 'Hoja Verde (Tulicorp)', 'Hoja Verde (Tulicorp)', 'Holy Cacao', 'Holy Cacao', 'Holy Cacao', 'Holy Cacao', 'Holy Cacao', 'Holy Cacao', 'Holy Cacao', 'Holy Cacao', 'Holy Cacao', 'Honest', 'Hotel Chocolat', 'Hotel Chocolat', 'Hotel Chocolat', 'Hotel Chocolat (Coppeneur)', 'Hotel Chocolat (Coppeneur)', 'Hotel Chocolat (Coppeneur)', 'Hotel Chocolat (Coppeneur)', 'Hotel Chocolat (Coppeneur)', 'Hotel Chocolat (Coppeneur)', 'Hotel Chocolat (Coppeneur)', 'Hotel Chocolat (Coppeneur)', 'Hotel Chocolat (Coppeneur)', 'Hotel Chocolat (Coppeneur)', 'Hotel Chocolat (Coppeneur)', 'Hotel Chocolat (Coppeneur)', 'Hotel Chocolat (Coppeneur)', 'Hotel Chocolat (Coppeneur)', 'Hotel Chocolat (Coppeneur)', 'Hotel Chocolat (Coppeneur)', 'Hotel Chocolat (Coppeneur)', 'Hotel Chocolat (Coppeneur)', 'Hotel Chocolat (Coppeneur)', 'Hummingbird', 'Hummingbird', 'Hummingbird', 'Hummingbird', 'Hummingbird', 'Hummingbird', 'Hummingbird', 'Hummingbird', 'Idilio (Felchlin)', 'Idilio (Felchlin)', 'Idilio (Felchlin)', 'Idilio (Felchlin)', 'Idilio (Felchlin)', 'Idilio (Felchlin)', 'Idilio (Felchlin)', 'Idilio (Felchlin)', 'Idilio (Felchlin)', 'Idilio (Felchlin)', 'Indah', 'Indaphoria', 'Indaphoria', 'Indi', 'iQ Chocolate', 'iQ Chocolate', 'Isidro', 'Isidro', 'Isidro', 'Isidro', 'Izard', 'Izard', 'Jacque Torres', 'Jordis', 'Just Good Chocolate', 'Just Good Chocolate', 'Just Good Chocolate', 'Kah Kow', 'Kah Kow', 'Kah Kow', 'Kah Kow', 'Kakao', 'Kakao', 'Kallari (Ecuatoriana)', 'Kallari (Ecuatoriana)', 'Kallari (Ecuatoriana)', 'Kallari (Ecuatoriana)', 'Kallari (Ecuatoriana)', 'Kallari (Ecuatoriana)', 'Kallari (Ecuatoriana)', 'Kallari (Ecuatoriana)', 'Kaoka (Cemoi)', 'Kaoka (Cemoi)', 'Kerchner', \"Ki' Xocolatl\", 'Kiskadee', 'Kto', 'Kto', 'Kto', 'Kto', 'Kto', 'Kto', 'Kto', \"K'ul\", \"K'ul\", \"K'ul\", \"K'ul\", 'Kyya', 'Kyya', 'Kyya', 'Kyya', 'L.A. Burdick (Felchlin)', 'L.A. Burdick (Felchlin)', 'L.A. Burdick (Felchlin)', 'L.A. Burdick (Felchlin)', 'L.A. Burdick (Felchlin)', 'L.A. Burdick (Felchlin)', 'L.A. Burdick (Felchlin)', 'L.A. Burdick (Felchlin)', 'L.A. Burdick (Felchlin)', 'La Chocolaterie Nanairo', 'La Chocolaterie Nanairo', 'La Chocolaterie Nanairo', 'La Chocolaterie Nanairo', 'La Maison du Chocolat (Valrhona)', 'La Maison du Chocolat (Valrhona)', 'La Maison du Chocolat (Valrhona)', 'La Maison du Chocolat (Valrhona)', 'La Maison du Chocolat (Valrhona)', 'La Maison du Chocolat (Valrhona)', 'La Maison du Chocolat (Valrhona)', 'La Maison du Chocolat (Valrhona)', 'La Maison du Chocolat (Valrhona)', 'La Maison du Chocolat (Valrhona)', 'La Oroquidea', 'La Pepa de Oro', 'Laia aka Chat-Noir', 'Laia aka Chat-Noir', 'Laia aka Chat-Noir', 'Laia aka Chat-Noir', 'Laia aka Chat-Noir', 'Laia aka Chat-Noir', 'Laia aka Chat-Noir', 'Laia aka Chat-Noir', 'Laia aka Chat-Noir', 'Laia aka Chat-Noir', 'Lajedo do Ouro', 'Lake Champlain (Callebaut)', \"L'Amourette\", \"L'Amourette\", \"L'Amourette\", \"L'Amourette\", 'Letterpress', 'Letterpress', 'Letterpress', 'Letterpress', 'Letterpress', 'Letterpress', 'Letterpress', 'Letterpress', 'Letterpress', 'Levy', 'Lilla', 'Lillie Belle', 'Lillie Belle', 'Lillie Belle', 'Lillie Belle', 'Lillie Belle', 'Lillie Belle', 'Lindt & Sprungli', 'Loiza', 'Lonohana', 'Lonohana', 'Lonohana', 'Lonohana', 'Lonohana', 'Lonohana', 'Love Bar', 'Luker', 'Luker', 'Luker', 'Luker', 'Machu Picchu Trading Co.', 'Machu Picchu Trading Co.', 'Madecasse (Cinagra)', 'Madecasse (Cinagra)', 'Madecasse (Cinagra)', 'Madecasse (Cinagra)', 'Madre', 'Madre', 'Madre', 'Madre', 'Madre', 'Madre', 'Madre', 'Madre', 'Madre', 'Madre', 'Madre', 'Maglio', 'Maglio', 'Maglio', 'Maglio', 'Majani', 'Malagasy (Chocolaterie Robert)', 'Malagasy (Chocolaterie Robert)', 'Malagos', 'Malie Kai (Guittard)', 'Malie Kai (Guittard)', 'Malmo', 'Mana', 'Mana', 'Mana', 'Mana', 'Manifesto Cacao', 'Manoa', 'Manoa', 'Manoa', 'Manoa', 'Manoa', 'Manoa', 'Manoa', 'Manufaktura Czekolady', 'Manufaktura Czekolady', 'Manufaktura Czekolady', 'Manufaktura Czekolady', 'Manufaktura Czekolady', 'Manufaktura Czekolady', 'Manufaktura Czekolady', 'Map Chocolate', 'Map Chocolate', 'Map Chocolate', 'Map Chocolate', 'Map Chocolate', 'Map Chocolate', 'Map Chocolate', 'Map Chocolate', 'Map Chocolate', 'Map Chocolate', 'Marana', 'Marana', 'Marana', \"Marigold's Finest\", 'Marou', 'Marou', 'Marou', 'Marou', 'Marou', 'Marou', 'Marou', 'Marou', 'Marou', 'Marou', 'Mars', 'Mars', 'Mars', 'Mars', 'Marsatta', 'Marsatta', 'Martin Mayer', 'Martin Mayer', 'Martin Mayer', 'Mast Brothers', 'Mast Brothers', 'Mast Brothers', 'Mast Brothers', 'Mast Brothers', 'Mast Brothers', 'Mast Brothers', 'Mast Brothers', 'Mast Brothers', 'Mast Brothers', 'Mast Brothers', 'Mast Brothers', 'Mast Brothers', 'Mast Brothers', 'Mast Brothers', 'Mast Brothers', 'Mast Brothers', 'Mast Brothers', 'Matale', 'Matale', 'Matale', 'Matale', 'Maverick', 'Maverick', 'Maverick', 'Maverick', 'Mayacama', 'Meadowlands', 'Meadowlands', 'Meadowlands', 'Meadowlands', 'Meadowlands', 'Menakao (aka Cinagra)', 'Menakao (aka Cinagra)', 'Mesocacao', 'Mesocacao', 'Mesocacao', 'Mesocacao', 'Mesocacao', 'Mesocacao', 'Metiisto', 'Metiisto', 'Metropolitan', 'Michel Cluizel', 'Michel Cluizel', 'Michel Cluizel', 'Michel Cluizel', 'Michel Cluizel', 'Michel Cluizel', 'Michel Cluizel', 'Michel Cluizel', 'Michel Cluizel', 'Michel Cluizel', 'Middlebury', 'Middlebury', 'Middlebury', 'Middlebury', 'Middlebury', 'Middlebury', 'Middlebury', 'Middlebury', 'Middlebury', 'Middlebury', 'Middlebury', 'Millcreek Cacao Roasters', 'Millcreek Cacao Roasters', 'Mindo', 'Mindo', 'Minimal', 'Mission', 'Mission', 'Mita', 'Moho', 'Moho', 'Moho', 'Molucca', 'Molucca', 'Molucca', 'Momotombo', 'Momotombo', 'Momotombo', 'Monarque', 'Monsieur Truffe', 'Montecristi', 'Montecristi', 'Montecristi', 'Muchomas (Mesocacao)', 'Muchomas (Mesocacao)', 'Mutari', 'Mutari', 'Mutari', 'Mutari', 'Nahua', 'Nahua', 'Naive', 'Naive', 'Naive', 'Na�ve', 'Na�ve', 'Na�ve', 'Nanea', 'Nathan Miller', 'Nathan Miller', 'Nathan Miller', 'Nathan Miller', 'Neuhaus (Callebaut)', 'Neuhaus (Callebaut)', 'Neuhaus (Callebaut)', 'Neuhaus (Callebaut)', 'Neuhaus (Callebaut)', 'Neuhaus (Callebaut)', 'Nibble', 'Nibble', 'Nibble', 'Nibble', 'Night Owl', 'Night Owl', 'Noble Bean aka Jerjobo', 'Noble Bean aka Jerjobo', 'Noble Bean aka Jerjobo', \"Noir d' Ebine\", \"Noir d' Ebine\", 'Nova Monda', 'Nova Monda', 'Nova Monda', 'Nuance', 'Nuance', 'Nuance', 'Nuance', 'Nuance', 'Nugali', 'Oakland Chocolate Co.', 'Obolo', 'Obolo', 'Ocelot', 'Ocelot', 'Ocho', 'Ocho', 'Ocho', 'Ocho', 'Ocho', 'Ocho', 'Ohiyo', 'Ohiyo', 'Oialla by Bojessen (Malmo)', 'Olive and Sinclair', 'Olive and Sinclair', 'Olive and Sinclair', 'Olive and Sinclair', 'Olivia', 'Olivia', 'Olivia', 'Olivia', 'Omanhene', 'Omnom', 'Omnom', 'Omnom', 'organicfair', 'organicfair', 'organicfair', 'organicfair', 'organicfair', 'Original Beans (Felchlin)', 'Original Beans (Felchlin)', 'Original Beans (Felchlin)', 'Original Beans (Felchlin)', 'Original Beans (Felchlin)', 'Original Beans (Felchlin)', 'Original Hawaiin Chocolate Factory', 'Original Hawaiin Chocolate Factory', 'Orquidea', 'Orquidea', 'Pacari', 'Pacari', 'Pacari', 'Pacari', 'Pacari', 'Pacari', 'Pacari', 'Pacari', 'Pacari', 'Pacari', 'Pacari', 'Pacari', 'Pacari', 'Palette de Bine', 'Palette de Bine', 'Palette de Bine', 'Palette de Bine', 'Palette de Bine', 'Palette de Bine', 'Palette de Bine', 'Palette de Bine', 'Palette de Bine', 'Palette de Bine', 'Palette de Bine', 'Pangea', 'Park 75', 'Parliament', 'Parliament', 'Parliament', 'Parliament', 'Pascha', 'Pascha', 'Patric', 'Patric', 'Patric', 'Patric', 'Patric', 'Patric', 'Paul Young', 'Paul Young', 'Peppalo', 'Pierre Marcolini', 'Pierre Marcolini', 'Pierre Marcolini', 'Pierre Marcolini', 'Pierre Marcolini', 'Pierre Marcolini', 'Pierre Marcolini', 'Pierre Marcolini', 'Pierre Marcolini', 'Pierre Marcolini', 'Pierre Marcolini', 'Pierre Marcolini', 'Pierre Marcolini', 'Pierre Marcolini', 'Pinellas', 'Pitch Dark', 'Pitch Dark', 'Pitch Dark', 'Pitch Dark', 'Pitch Dark', 'Pitch Dark', 'Pitch Dark', 'Pitch Dark', 'Pitch Dark', 'Pomm (aka Dead Dog)', 'Pomm (aka Dead Dog)', 'Potomac', 'Potomac', 'Potomac', 'Potomac', 'Potomac', 'Potomac', 'Potomac', 'Pralus', 'Pralus', 'Pralus', 'Pralus', 'Pralus', 'Pralus', 'Pralus', 'Pralus', 'Pralus', 'Pralus', 'Pralus', 'Pralus', 'Pralus', 'Pralus', 'Pralus', 'Pralus', 'Pralus', 'Pralus', 'Pralus', 'Pralus', 'Pralus', 'Pralus', 'Pralus', 'Pralus', 'Pralus', 'Pump Street Bakery', 'Pump Street Bakery', 'Pump Street Bakery', 'Pump Street Bakery', 'Pump Street Bakery', 'Pump Street Bakery', 'Pump Street Bakery', 'Pump Street Bakery', 'Pura Delizia', 'Q Chocolate', 'Q Chocolate', 'Q Chocolate', 'Q Chocolate', 'Q Chocolate', 'Q Chocolate', 'Quetzalli (Wolter)', 'Quetzalli (Wolter)', 'Raaka', 'Raaka', 'Raaka', 'Raaka', 'Rain Republic', 'Rancho San Jacinto', 'Ranger', 'Ranger', 'Ranger', 'Raoul Boulanger', 'Raw Cocoa', 'Republica del Cacao (aka Confecta)', 'Republica del Cacao (aka Confecta)', 'Republica del Cacao (aka Confecta)', 'Republica del Cacao (aka Confecta)', 'Republica del Cacao (aka Confecta)', 'Ritual', 'Ritual', 'Ritual', 'Ritual', 'Ritual', 'Ritual', 'Ritual', 'Ritual', 'Ritual', 'Roasting Masters', 'Roasting Masters', 'Roasting Masters', 'Robert (aka Chocolaterie Robert)', 'Robert (aka Chocolaterie Robert)', 'Rococo (Grenada Chocolate Co.)', 'Rogue', 'Rogue', 'Rogue', 'Rogue', 'Rogue', 'Rogue', 'Rogue', 'Rogue', 'Rogue', 'Rogue', 'Rogue', 'Rogue', 'Rogue', 'Rogue', 'Rogue', 'Rogue', 'Rozsavolgyi', 'Rozsavolgyi', 'Rozsavolgyi', 'Rozsavolgyi', 'Rozsavolgyi', 'Rozsavolgyi', 'Rozsavolgyi', 'S.A.I.D.', 'S.A.I.D.', 'S.A.I.D.', 'S.A.I.D.', 'S.A.I.D.', 'Sacred', 'Sacred', 'Salgado', 'Salgado', 'Salgado', 'Salgado', 'Santander (Compania Nacional)', 'Santander (Compania Nacional)', 'Santander (Compania Nacional)', 'Santander (Compania Nacional)', 'Santander (Compania Nacional)', 'Santome', 'Scharffen Berger', 'Scharffen Berger', 'Scharffen Berger', 'Scharffen Berger', 'Scharffen Berger', 'Scharffen Berger', 'Scharffen Berger', 'Scharffen Berger', 'Scharffen Berger', 'Scharffen Berger', 'Scharffen Berger', 'Scharffen Berger', 'Scharffen Berger', 'Scharffen Berger', 'Scharffen Berger', 'Scharffen Berger', 'Scharffen Berger', 'Seaforth', 'Seaforth', 'Shark Mountain', 'Shark Mountain', 'Shark Mountain', 'Shark Mountain', 'Shark Mountain', 'Shark Mountain', \"Shark's\", \"Shark's\", 'Shattel', 'Shattell', 'Sibu', 'Sibu', 'Sibu Sura', 'Silvio Bessone', 'Silvio Bessone', 'Silvio Bessone', 'Silvio Bessone', 'Sirene', 'Sirene', 'Sirene', 'Sirene', 'Sirene', 'Sirene', 'Sirene', 'Sirene', 'Sirene', 'Sirene', 'Sirene', 'Sjolinds', 'Sjolinds', 'Smooth Chocolator, The', 'Smooth Chocolator, The', 'Smooth Chocolator, The', 'Smooth Chocolator, The', 'Smooth Chocolator, The', 'Smooth Chocolator, The', 'Smooth Chocolator, The', 'Smooth Chocolator, The', 'Smooth Chocolator, The', 'Smooth Chocolator, The', 'Smooth Chocolator, The', 'Smooth Chocolator, The', 'Smooth Chocolator, The', 'Smooth Chocolator, The', 'Smooth Chocolator, The', 'Smooth Chocolator, The', 'Snake & Butterfly', 'Snake & Butterfly', 'Snake & Butterfly', 'Sol Cacao', 'Sol Cacao', 'Solkiki', 'Solkiki', 'Solomons Gold', 'Solomons Gold', 'Solstice', 'Solstice', 'Solstice', 'Solstice', 'Solstice', 'Solstice', 'Soma', 'Soma', 'Soma', 'Soma', 'Soma', 'Soma', 'Soma', 'Soma', 'Soma', 'Soma', 'Soma', 'Soma', 'Soma', 'Soma', 'Soma', 'Soma', 'Soma', 'Soma', 'Soma', 'Soma', 'Soma', 'Soma', 'Soma', 'Soma', 'Soma', 'Soma', 'Soma', 'Soma', 'Soma', 'Soma', 'Soma', 'Soma', 'Soma', 'Soma', 'Soma', 'Soma', 'Soma', 'Soma', 'Soma', 'Soma', 'Soma', 'Soma', 'Soma', 'Soma', 'Soma', 'Soma', 'Soma', 'Somerville', 'Somerville', 'Soul', 'Soul', 'Soul', 'Soul', 'Soul', 'Soul', 'Spagnvola', 'Spagnvola', 'Spagnvola', 'Spencer', 'Spencer', 'Spencer', 'Spencer', 'Spencer', 'Spencer', 'Spencer', 'Sprungli (Felchlin)', 'SRSLY', 'SRSLY', 'Starchild', 'Starchild', 'Starchild', 'Starchild', 'Starchild', 'Stella (aka Bernrain)', 'Stella (aka Bernrain)', 'Stone Grindz', 'Stone Grindz', 'StRita Supreme', 'StRita Supreme', 'StRita Supreme', 'Sublime Origins', 'Sublime Origins', 'Summerbird', 'Summerbird', 'Suruca Chocolate', 'Suruca Chocolate', 'Svenska Kakaobolaget', 'Szanto Tibor', 'Szanto Tibor', 'Szanto Tibor', 'Szanto Tibor', 'Szanto Tibor', 'Szanto Tibor', 'Szanto Tibor', 'Szanto Tibor', 'Szanto Tibor', 'Szanto Tibor', 'Szanto Tibor', 'Szanto Tibor', 'Szanto Tibor', 'Szanto Tibor', 'Szanto Tibor', 'Tabal', 'Tabal', 'Tabal', 'Tabal', 'Tablette (aka Vanillabeans)', 'Tablette (aka Vanillabeans)', 'Tablette (aka Vanillabeans)', 'Tablette (aka Vanillabeans)', 'Tan Ban Skrati', 'Taza', 'Taza', 'Taza', 'Taza', 'TCHO', 'TCHO', 'TCHO', 'TCHO', 'TCHO', 'TCHO', 'TCHO', 'TCHO', 'Tejas', 'Tejas', 'Tejas', 'Tejas', 'Tejas', 'Tejas', 'Tejas', 'Tejas', 'Tejas', 'Tejas', 'Tejas', 'Tejas', 'Tejas', 'Tejas', 'Terroir', 'Terroir', 'Terroir', 'Terroir', 'Terroir', 'Terroir', 'Terroir', 'Terroir', 'Terroir', 'The Barn', 'Theo', 'Theo', 'Theo', 'Theo', 'Theo', 'Theo', 'Theobroma', 'Timo A. Meyer', \"To'ak (Ecuatoriana)\", 'Tobago Estate (Pralus)', 'Tocoti', 'Tocoti', 'Tocoti', 'Treehouse', 'Tsara (Cinagra)', 'twenty-four blackbirds', 'twenty-four blackbirds', 'twenty-four blackbirds', 'twenty-four blackbirds', 'twenty-four blackbirds', 'twenty-four blackbirds', 'Two Ravens', 'Un Dimanche A Paris', 'Undone', 'Undone', 'Upchurch', 'Upchurch', 'Urzi', 'Valrhona', 'Valrhona', 'Valrhona', 'Valrhona', 'Valrhona', 'Valrhona', 'Valrhona', 'Valrhona', 'Valrhona', 'Valrhona', 'Valrhona', 'Valrhona', 'Valrhona', 'Valrhona', 'Valrhona', 'Valrhona', 'Valrhona', 'Valrhona', 'Valrhona', 'Valrhona', 'Valrhona', 'Vanleer (Barry Callebaut)', 'Vanleer (Barry Callebaut)', 'Vao Vao (Chocolaterie Robert)', 'Vao Vao (Chocolaterie Robert)', 'Vao Vao (Chocolaterie Robert)', 'Vao Vao (Chocolaterie Robert)', 'Vao Vao (Chocolaterie Robert)', 'Vao Vao (Chocolaterie Robert)', 'Vicuna', 'Vicuna', 'Videri', 'Videri', 'Videri', 'Videri', 'Videri', 'Vietcacao (A. Morin)', 'Vintage Plantations', 'Vintage Plantations (Tulicorp)', 'Vintage Plantations (Tulicorp)', 'Vintage Plantations (Tulicorp)', 'Vintage Plantations (Tulicorp)', 'Violet Sky', 'Violet Sky', 'Violet Sky', 'Violet Sky', 'Violet Sky', 'Vivra', 'Vivra', 'Vivra', 'Wellington Chocolate Factory', 'Wellington Chocolate Factory', 'Whittakers', \"Wilkie's Organic\", \"Wilkie's Organic\", \"Wilkie's Organic\", \"Wilkie's Organic\", \"Willie's Cacao\", \"Willie's Cacao\", \"Willie's Cacao\", \"Willie's Cacao\", \"Willie's Cacao\", \"Willie's Cacao\", \"Willie's Cacao\", \"Willie's Cacao\", 'Wm', 'Wm', 'Wm', 'Woodblock', 'Woodblock', 'Woodblock', 'Woodblock', 'Woodblock', 'Woodblock', 'Woodblock', 'Woodblock', 'Xocolat', 'Xocolla', 'Xocolla', \"Zak's\", \"Zak's\", \"Zak's\", \"Zak's\", \"Zak's\", \"Zak's\", 'Zart Pralinen', 'Zart Pralinen', 'Zart Pralinen', 'Zart Pralinen', 'Zart Pralinen', 'Zart Pralinen', 'Zokoko', 'Zokoko', 'Zokoko', 'Zokoko', 'Zokoko', 'Zotter', 'Zotter', 'Zotter', 'Zotter', 'Zotter', 'Zotter', 'Zotter', 'Zotter', 'Zotter', 'Zotter', 'Zotter', 'Zotter', 'Zotter', 'Zotter', 'Zotter', 'Zotter', 'Zotter']\n"
     ],
     "output_type":"stream"
    }
   ],
   "metadata":{
    "datalore":{
     "type":"CODE",
     "hide_input_from_viewers":false,
     "hide_output_from_viewers":false
    }
   }
  }
 ],
 "metadata":{
  "datalore":{
   "version":1,
   "computation_mode":"JUPYTER",
   "package_manager":"pip",
   "base_environment":"default",
   "packages":[
    
   ]
  }
 },
 "nbformat":4,
 "nbformat_minor":4
}