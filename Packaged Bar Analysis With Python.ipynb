{
 "cells": [
  {
   "attachments": {},
   "cell_type": "markdown",
   "metadata": {
    "datalore": {
     "hide_input_from_viewers": false,
     "hide_output_from_viewers": false,
     "type": "MD"
    }
   },
   "source": [
    "After eating chocolate bars your whole life, you’ve decided to go on a quest to find the greatest chocolate bar in the world.\n",
    "\n",
    "You’ve found a website that has over 1700 reviews of chocolate bars from all around the world. It’s displayed in the web browser on this page.\n",
    "\n",
    "The data is displayed in a table, instead of in a csv or json. Thankfully, we have the power of BeautifulSoup that will help us transform this webpage into a DataFrame that we can manipulate and analyze."
   ]
  },
  {
   "attachments": {},
   "cell_type": "markdown",
   "metadata": {
    "datalore": {
     "hide_input_from_viewers": false,
     "hide_output_from_viewers": false,
     "type": "MD"
    }
   },
   "source": [
    "Some questions we thought about when we found this dataset were:\n",
    "\n",
    "**Where are the best cocao beans grown?**\n",
    "\n",
    "**Which countries produce the highest-rated bars?**\n",
    "\n",
    "**What’s the relationship between cocao solids percentage and rating?**"
   ]
  },
  {
   "cell_type": "code",
   "execution_count": 3,
   "metadata": {
    "datalore": {
     "hide_input_from_viewers": false,
     "hide_output_from_viewers": false,
     "type": "CODE"
    }
   },
   "outputs": [
    {
     "ename": "ModuleNotFoundError",
     "evalue": "No module named 'bs4'",
     "output_type": "error",
     "traceback": [
      "\u001b[1;31m---------------------------------------------------------------------------\u001b[0m",
      "\u001b[1;31mModuleNotFoundError\u001b[0m                       Traceback (most recent call last)",
      "\u001b[1;32mc:\\Users\\My Notebook\\Desktop\\LGM-VIP\\Python-Projects\\Packaged Bar Analysis With Python.ipynb Cell 3'\u001b[0m in \u001b[0;36m<cell line: 1>\u001b[1;34m()\u001b[0m\n\u001b[1;32m----> <a href='vscode-notebook-cell:/c%3A/Users/My%20Notebook/Desktop/LGM-VIP/Python-Projects/Packaged%20Bar%20Analysis%20With%20Python.ipynb#ch0000002?line=0'>1</a>\u001b[0m \u001b[39mfrom\u001b[39;00m \u001b[39mbs4\u001b[39;00m \u001b[39mimport\u001b[39;00m BeautifulSoup\n\u001b[0;32m      <a href='vscode-notebook-cell:/c%3A/Users/My%20Notebook/Desktop/LGM-VIP/Python-Projects/Packaged%20Bar%20Analysis%20With%20Python.ipynb#ch0000002?line=1'>2</a>\u001b[0m \u001b[39mimport\u001b[39;00m \u001b[39mrequests\u001b[39;00m\n\u001b[0;32m      <a href='vscode-notebook-cell:/c%3A/Users/My%20Notebook/Desktop/LGM-VIP/Python-Projects/Packaged%20Bar%20Analysis%20With%20Python.ipynb#ch0000002?line=2'>3</a>\u001b[0m \u001b[39mimport\u001b[39;00m \u001b[39mpandas\u001b[39;00m \u001b[39mas\u001b[39;00m \u001b[39mpd\u001b[39;00m\n",
      "\u001b[1;31mModuleNotFoundError\u001b[0m: No module named 'bs4'"
     ]
    }
   ],
   "source": [
    "\n",
    "from bs4 import BeautifulSoup\n",
    "import requests\n",
    "import pandas as pd\n",
    "import matplotlib.pyplot as plt\n",
    "import numpy as np"
   ]
  },
  {
   "attachments": {},
   "cell_type": "markdown",
   "metadata": {
    "datalore": {
     "hide_input_from_viewers": false,
     "hide_output_from_viewers": false,
     "type": "MD"
    }
   },
   "source": [
    "**Let’s make a request to this site to get the raw HTML, which we can later turn into a BeautifulSoup object.**"
   ]
  },
  {
   "cell_type": "code",
   "execution_count": 15,
   "metadata": {
    "datalore": {
     "hide_input_from_viewers": false,
     "hide_output_from_viewers": false,
     "type": "CODE"
    }
   },
   "outputs": [],
   "source": [
    "webpage =  requests.get(\"https://content.codecademy.com/courses/beautifulsoup/cacao/index.html\")\n",
    "soup = BeautifulSoup(webpage.content,\"html.parser\")"
   ]
  },
  {
   "attachments": {},
   "cell_type": "markdown",
   "metadata": {
    "datalore": {
     "hide_input_from_viewers": false,
     "hide_output_from_viewers": false,
     "type": "MD"
    }
   },
   "source": [
    "**How many terrible chocolate bars are out there? And how many earned a perfect 5?**"
   ]
  },
  {
   "cell_type": "code",
   "execution_count": 16,
   "metadata": {
    "datalore": {
     "hide_input_from_viewers": false,
     "hide_output_from_viewers": false,
     "type": "CODE"
    }
   },
   "outputs": [],
   "source": [
    "b = soup.find_all(attrs={'class':'Rating'})\n",
    "#print(b)\n",
    "\n",
    "ratings = []\n",
    "ctr = 0\n",
    "\n",
    "for i in b:\n",
    "  a = BeautifulSoup.get_text(i)\n",
    "  if ctr == 0:\n",
    "    ctr += 1\n",
    "    continue\n",
    "  ratings.append(float(a))\n"
   ]
  },
  {
   "cell_type": "code",
   "execution_count": 1,
   "metadata": {
    "datalore": {
     "hide_input_from_viewers": false,
     "hide_output_from_viewers": false,
     "type": "CODE"
    }
   },
   "outputs": [
    {
     "ename": "NameError",
     "evalue": "name 'plt' is not defined",
     "output_type": "error",
     "traceback": [
      "\u001b[1;31m---------------------------------------------------------------------------\u001b[0m",
      "\u001b[1;31mNameError\u001b[0m                                 Traceback (most recent call last)",
      "\u001b[1;32mc:\\Users\\My Notebook\\Desktop\\LGM-VIP\\Python-Projects\\Packaged Bar Analysis With Python.ipynb Cell 8'\u001b[0m in \u001b[0;36m<cell line: 2>\u001b[1;34m()\u001b[0m\n\u001b[0;32m      <a href='vscode-notebook-cell:/c%3A/Users/My%20Notebook/Desktop/LGM-VIP/Python-Projects/Packaged%20Bar%20Analysis%20With%20Python.ipynb#ch0000007?line=0'>1</a>\u001b[0m \u001b[39m#print(ratings)\u001b[39;00m\n\u001b[1;32m----> <a href='vscode-notebook-cell:/c%3A/Users/My%20Notebook/Desktop/LGM-VIP/Python-Projects/Packaged%20Bar%20Analysis%20With%20Python.ipynb#ch0000007?line=1'>2</a>\u001b[0m plt\u001b[39m.\u001b[39mhist(ratings)\n\u001b[0;32m      <a href='vscode-notebook-cell:/c%3A/Users/My%20Notebook/Desktop/LGM-VIP/Python-Projects/Packaged%20Bar%20Analysis%20With%20Python.ipynb#ch0000007?line=2'>3</a>\u001b[0m plt\u001b[39m.\u001b[39mshow()\n",
      "\u001b[1;31mNameError\u001b[0m: name 'plt' is not defined"
     ]
    }
   ],
   "source": [
    "#print(ratings)\n",
    "plt.hist(ratings)\n",
    "plt.show()\n"
   ]
  },
  {
   "cell_type": "code",
   "execution_count": 18,
   "metadata": {
    "datalore": {
     "hide_input_from_viewers": false,
     "hide_output_from_viewers": true,
     "type": "CODE"
    }
   },
   "outputs": [
    {
     "data": {
      "text/plain": [
       "'Company\\xa0\\n               (Maker-if known)\\n            '"
      ]
     },
     "metadata": {},
     "output_type": "display_data"
    }
   ],
   "source": [
    "\n",
    "comp = soup.select(\".Company\")\n",
    "\n",
    "complist = []\n",
    "for i in comp:\n",
    "  a = BeautifulSoup.get_text(i)\n",
    "  complist.append(a)\n",
    "complist.pop(0)\n"
   ]
  },
  {
   "attachments": {},
   "cell_type": "markdown",
   "metadata": {
    "datalore": {
     "hide_input_from_viewers": false,
     "hide_output_from_viewers": false,
     "type": "MD"
    }
   },
   "source": [
    "**We want to now find the 10 most highly rated chocolatiers.\n",
    "One way to do this is to make a DataFrame that has the chocolate companies in one column, and the ratings in another. Then, we can do a groupby to find the ones with the highest average rating.**"
   ]
  },
  {
   "cell_type": "code",
   "execution_count": 19,
   "metadata": {
    "datalore": {
     "hide_input_from_viewers": false,
     "hide_output_from_viewers": false,
     "type": "CODE"
    }
   },
   "outputs": [
    {
     "name": "stdout",
     "output_type": "stream",
     "text": [
      "Company\n",
      "Tobago Estate (Pralus)                  4.000000\n",
      "Heirloom Cacao Preservation (Zokoko)    3.875000\n",
      "Ocelot                                  3.875000\n",
      "Amedei                                  3.846154\n",
      "Matale                                  3.812500\n",
      "Patric                                  3.791667\n",
      "Idilio (Felchlin)                       3.775000\n",
      "Acalli                                  3.750000\n",
      "Chocola'te                              3.750000\n",
      "Christopher Morel (Felchlin)            3.750000\n",
      "Name: Ratings, dtype: float64\n"
     ]
    }
   ],
   "source": [
    "d = {\"Ratings\":ratings,\"Company\":complist}\n",
    "your = pd.DataFrame.from_dict(d)\n",
    "y = your.groupby(\"Company\").Ratings.mean()\n",
    "best = y.nlargest(10)\n",
    "print(best)"
   ]
  },
  {
   "attachments": {},
   "cell_type": "markdown",
   "metadata": {
    "datalore": {
     "hide_input_from_viewers": false,
     "hide_output_from_viewers": false,
     "type": "MD"
    }
   },
   "source": [
    "**Checking the highest Cocoa Percentage in Chocolate Bars with respect to the ratings by creating the Best-Fit over the scatterplot with basic Numpy commands**"
   ]
  },
  {
   "cell_type": "code",
   "execution_count": 20,
   "metadata": {
    "datalore": {
     "hide_input_from_viewers": false,
     "hide_output_from_viewers": false,
     "type": "CODE"
    }
   },
   "outputs": [
    {
     "name": "stdout",
     "output_type": "stream",
     "text": [
      "      Ratings   Company  CocoaPercentage\n",
      "0        3.75  A. Morin             63.0\n",
      "1        2.75  A. Morin             70.0\n",
      "2        3.00  A. Morin             70.0\n",
      "3        3.50  A. Morin             70.0\n",
      "4        3.50  A. Morin             70.0\n",
      "...       ...       ...              ...\n",
      "1790     3.75    Zotter             70.0\n",
      "1791     3.00    Zotter             65.0\n",
      "1792     3.50    Zotter             65.0\n",
      "1793     3.25    Zotter             62.0\n",
      "1794     3.00    Zotter             65.0\n",
      "\n",
      "[1795 rows x 3 columns]\n"
     ]
    }
   ],
   "source": [
    "cocoa = soup.select(\".CocoaPercent\")\n",
    "cocalist = []\n",
    "for i in cocoa:\n",
    "  a = BeautifulSoup.get_text(i)\n",
    "  cocalist.append(a)\n",
    "cocalist.pop(0)\n",
    "coca = list(map(lambda x: x[:-1],cocalist))\n",
    "coca = list(map(float,coca))\n",
    "\n",
    "d[\"CocoaPercentage\"] = coca\n",
    "yours = pd.DataFrame.from_dict(d)\n",
    "print(yours)"
   ]
  },
  {
   "cell_type": "code",
   "execution_count": 21,
   "metadata": {
    "datalore": {
     "hide_input_from_viewers": false,
     "hide_output_from_viewers": false,
     "type": "CODE"
    }
   },
   "outputs": [
    {
     "name": "stdout",
     "output_type": "stream",
     "text": [
      "      Ratings   Company  CocoaPercentage\n",
      "0        3.75  A. Morin             63.0\n",
      "1        2.75  A. Morin             70.0\n",
      "2        3.00  A. Morin             70.0\n",
      "3        3.50  A. Morin             70.0\n",
      "4        3.50  A. Morin             70.0\n",
      "...       ...       ...              ...\n",
      "1790     3.75    Zotter             70.0\n",
      "1791     3.00    Zotter             65.0\n",
      "1792     3.50    Zotter             65.0\n",
      "1793     3.25    Zotter             62.0\n",
      "1794     3.00    Zotter             65.0\n",
      "\n",
      "[1795 rows x 3 columns]\n"
     ]
    }
   ],
   "source": [
    "d[\"CocoaPercentage\"] = coca\n",
    "yours = pd.DataFrame.from_dict(d)\n",
    "print(yours)"
   ]
  },
  {
   "cell_type": "code",
   "execution_count": 22,
   "metadata": {
    "datalore": {
     "hide_input_from_viewers": false,
     "hide_output_from_viewers": false,
     "type": "CODE"
    }
   },
   "outputs": [
    {
     "data": {
      "image/png": "[encoded data removed]"
     },
     "metadata": {
      "image/png": {}
     },
     "output_type": "display_data"
    }
   ],
   "source": [
    "plt.clf()\n",
    "plt.scatter( yours.CocoaPercentage,yours.Ratings)\n",
    "z = np.polyfit(yours.CocoaPercentage, yours.Ratings, 1)\n",
    "line_function = np.poly1d(z)\n",
    "plt.plot(yours.CocoaPercentage, line_function(yours.CocoaPercentage), \"r--\")\n",
    "plt.show()"
   ]
  },
  {
   "cell_type": "code",
   "execution_count": 23,
   "metadata": {
    "datalore": {
     "hide_input_from_viewers": false,
     "hide_output_from_viewers": true,
     "type": "CODE"
    }
   },
   "outputs": [
    {
     "data": {
      "text/plain": [
       "'Specific Bean Origin\\n               or Bar Name\\n            '"
      ]
     },
     "metadata": {},
     "output_type": "display_data"
    }
   ],
   "source": [
    "a = soup.select(\".Origin\")\n",
    "b = soup.select(\".CocoaPercent\")\n",
    "threebroadbean = []\n",
    "for i in a:\n",
    "  text = BeautifulSoup.get_text(i)\n",
    "  threebroadbean.append(text)\n",
    "  \n",
    "threebroadbean.pop(0)"
   ]
  },
  {
   "attachments": {},
   "cell_type": "markdown",
   "metadata": {
    "datalore": {
     "hide_input_from_viewers": false,
     "hide_output_from_viewers": false,
     "type": "MD"
    }
   },
   "source": [
    "**Now let's hop on to find which regions cultivate the best beans of them all. We will operate by taking the already computed Origin and Percent values in a dictionary and then Grouping them by percent.**"
   ]
  },
  {
   "cell_type": "code",
   "execution_count": 24,
   "metadata": {
    "datalore": {
     "hide_input_from_viewers": false,
     "hide_output_from_viewers": false,
     "type": "CODE"
    }
   },
   "outputs": [
    {
     "name": "stdout",
     "output_type": "stream",
     "text": [
      "Percent\n",
      "100.0    VenezuelaOne HundredEl Oro, Hacienda de OroEcu...\n",
      "99.0                              Noir InfiniPeru- Ecuador\n",
      "91.0     PichinchaNocturneVenezuela; Barinos, Merida, T...\n",
      "90.0     EcuadorTumbes, \"Zarumilla\"Los Rios, H. IaraBel...\n",
      "89.0                            Dominican RepublicAmazonas\n",
      "88.0     Vanua LevuMaracaiboEsmeraldasAfricaPNG, Voodoo...\n",
      "87.0                                             Alto Beni\n",
      "86.0                                                Belize\n",
      "85.0     EcuadorGhanaMonte Alegre, 3 diff. plantationsC...\n",
      "84.0     Sur del LagoDominican RepublicEcuador, Midnigh...\n",
      "83.0     Belize south, low fermentationBelize southVanu...\n",
      "82.0     Congo, Grand CruAkesson's E., Sambirano V.Boli...\n",
      "81.0     Carenero SuperiorPalo Blanco w/ panela, Chuluc...\n",
      "80.0     Vanua Levu, Toto-ABoliviaMadagascarHouseblends...\n",
      "79.0                                              Patanemo\n",
      "78.0     Belize southSan Andres, silkOcumare, prototype...\n",
      "77.0     DavaoEl Oro, Hacienda de OroChuaoVenezuelaEsme...\n",
      "76.0     Nicaragua, American styleSan Andres, American ...\n",
      "75.0     Bali (west), Sukrama Family, Melaya areaMadaga...\n",
      "74.0     BaracoaChuaoCuyagua VillagePorcelana, Premier ...\n",
      "73.5                           Terreiro Velho P.Madagascar\n",
      "73.0     Bellavista Gran Pajeten, San MartinTien GiangL...\n",
      "72.5                     UgandaHispaniolaEcuadorMadagascar\n",
      "72.0     Vanua Levu, Ami-Ami-CALamasdelChanka, San Mart...\n",
      "71.0     EcuadorSambiranoMacondoMadagascarEcuadorPapuaG...\n",
      "70.0     KpimeAtsaneAkataQuillaCareneroCubaSur del Lago...\n",
      "69.0     Boyaca, Aprocampa Coop, PaunaMaranonMarkham Va...\n",
      "68.0     PeruNacionalMababaPuerto PlataConacadoGran Cou...\n",
      "67.0     Namau Village, N. Taileva P., batch a2812Kokoa...\n",
      "66.0     MadagascarToscano BlackMexicoDominican Republi...\n",
      "65.0     TriniteDominican Republic, Batch 3EcuadorBali,...\n",
      "64.0     BelizeCosta RicaPapua New GuineaPeruMadagascar...\n",
      "63.0     Agua GrandeChanchamayo ProvincePeruPapua New G...\n",
      "62.0     Porcelana, ApotequilRed VanillaVenezuela, Trin...\n",
      "61.0     ChoroniCarenero Superior, MijaoPalo Blanco, Ch...\n",
      "60.5                                   Rio Caribe, Cariaco\n",
      "60.0     Vanua LevuMomotomboAcopagroCIAAB CoopVilla And...\n",
      "58.0     West AfricaCarenero Superior, BucareGrenadaArr...\n",
      "57.0                                                Uganda\n",
      "56.0                              Acarigua, w/ nibsCaraque\n",
      "55.0     Los Rios, Quevedo, ArribaNatureManabiLos RiosE...\n",
      "53.0                                   Colombian Semi Dark\n",
      "50.0                     Monte Alegre, 3 diff. plantations\n",
      "46.0                                                 Selva\n",
      "42.0                                            Guadeloupe\n",
      "Name: Origin, dtype: object\n"
     ]
    }
   ],
   "source": [
    "newd = dict()\n",
    "newd[\"Origin\"] = threebroadbean\n",
    "newd[\"Percent\"] = coca\n",
    "ogperc = pd.DataFrame.from_dict(newd)\n",
    "ogperc = ogperc.groupby(\"Percent\").sum()\n",
    "res = ogperc[::-1]\n",
    "print(res[\"Origin\"])"
   ]
  },
  {
   "attachments": {},
   "cell_type": "markdown",
   "metadata": {
    "datalore": {
     "hide_input_from_viewers": false,
     "hide_output_from_viewers": false,
     "type": "MD"
    }
   },
   "source": [
    "**In this module, we will scale the companies with highest amount of chocolate bar production with the us of Python libraries like Numpy and Matplotlib.**"
   ]
  }
 ],
 "metadata": {
  "datalore": {
   "base_environment": "default",
   "computation_mode": "JUPYTER",
   "package_manager": "pip",
   "packages": [],
   "version": 1
  },
  "interpreter": {
   "hash": "2be5faf79681da6f2a61fdfdd5405d65d042280f7fba6178067603e3a2925119"
  },
  "kernelspec": {
   "display_name": "Python 3.10.0 64-bit",
   "language": "python",
   "name": "python3"
  },
  "language_info": {
   "codemirror_mode": {
    "name": "ipython",
    "version": 3
   },
   "file_extension": ".py",
   "mimetype": "text/x-python",
   "name": "python",
   "nbconvert_exporter": "python",
   "pygments_lexer": "ipython3",
   "version": "3.10.0"
  }
 },
 "nbformat": 4,
 "nbformat_minor": 4
}
